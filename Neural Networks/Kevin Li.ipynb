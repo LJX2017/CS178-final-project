{
 "cells": [
  {
   "cell_type": "code",
   "id": "initial_id",
   "metadata": {
    "collapsed": true,
    "ExecuteTime": {
     "end_time": "2025-03-15T05:36:28.085761Z",
     "start_time": "2025-03-15T05:36:26.866902Z"
    }
   },
   "source": [
    "import numpy as np\n",
    "import torch\n",
    "from datasets import load_dataset\n",
    "from transformers import AutoTokenizer, AutoModelForSequenceClassification, TrainingArguments, Trainer\n",
    "from sklearn.model_selection import KFold\n",
    "from sklearn.metrics import f1_score, accuracy_score\n",
    "import pandas as pd\n",
    "import numpy as np\n",
    "import torch\n",
    "from torch.utils.data import Dataset\n",
    "from transformers import RobertaTokenizer, RobertaForSequenceClassification, TrainingArguments, Trainer\n",
    "from sklearn.model_selection import KFold\n",
    "from sklearn.metrics import f1_score, accuracy_score\n",
    "\n",
    "data = pd.read_csv(\"../data/train.csv\")\n",
    "# Define label columns\n",
    "\n",
    "# Extract texts and labels\n",
    "texts = data['comment_text'].tolist()\n",
    "# Use the six toxicity-related columns as labels (multi-label classification)\n",
    "labels = data[['toxic', 'severe_toxic', 'obscene', 'threat', 'insult', 'identity_hate']].values\n",
    "\n",
    "# label_columns = ['toxic', 'severe_toxic', 'obscene', 'threat', 'insult', 'identity_hate']\n",
    "\n",
    "# Load the CSV using the datasets library\n",
    "raw_dataset = load_dataset(\"csv\", data_files={\"train\": \"../data/train.csv\"})[\"train\"]\n",
    "tokenizer = AutoTokenizer.from_pretrained(\"roberta-base\")\n",
    "\n"
   ],
   "outputs": [],
   "execution_count": 21
  },
  {
   "metadata": {
    "ExecuteTime": {
     "end_time": "2025-03-15T05:36:28.863506Z",
     "start_time": "2025-03-15T05:36:28.860684Z"
    }
   },
   "cell_type": "code",
   "source": [
    "def tokenize_function(example):\n",
    "    return tokenizer(example[\"comment_text\"], truncation=True, padding=\"max_length\", max_length=128)\n"
   ],
   "id": "288c03ff1b3c16da",
   "outputs": [],
   "execution_count": 22
  },
  {
   "metadata": {
    "ExecuteTime": {
     "end_time": "2025-03-15T05:36:29.415148Z",
     "start_time": "2025-03-15T05:36:29.364706Z"
    }
   },
   "cell_type": "code",
   "source": "dataset = raw_dataset.map(tokenize_function, batched=True)\n",
   "id": "80aaa63250781e32",
   "outputs": [],
   "execution_count": 23
  },
  {
   "metadata": {
    "ExecuteTime": {
     "end_time": "2025-03-15T05:36:29.908574Z",
     "start_time": "2025-03-15T05:36:29.834231Z"
    }
   },
   "cell_type": "code",
   "source": [
    "def format_labels(example):\n",
    "    example[\"labels\"] = [float(example[col]) for col in label_columns]\n",
    "    return example\n",
    "\n",
    "dataset = dataset.map(format_labels)"
   ],
   "id": "1455c31b2a8d2fb7",
   "outputs": [],
   "execution_count": 24
  },
  {
   "metadata": {
    "jupyter": {
     "is_executing": true
    },
    "ExecuteTime": {
     "start_time": "2025-03-15T05:36:30.948717Z"
    }
   },
   "cell_type": "code",
   "source": [
    "class ToxicCommentsDataset(Dataset):\n",
    "    def __init__(self, texts, labels, tokenizer, max_length=128):\n",
    "        self.texts = texts\n",
    "        self.labels = labels\n",
    "        self.tokenizer = tokenizer\n",
    "        self.max_length = max_length\n",
    "        \n",
    "    def __len__(self):\n",
    "        return len(self.texts)\n",
    "        \n",
    "    def __getitem__(self, idx):\n",
    "        text = str(self.texts[idx])\n",
    "        label = self.labels[idx].astype(float)  # use float for BCEWithLogitsLoss\n",
    "        encoding = self.tokenizer(\n",
    "            text,\n",
    "            truncation=True,\n",
    "            padding=\"max_length\",\n",
    "            max_length=self.max_length,\n",
    "            return_tensors=\"pt\"\n",
    "        )\n",
    "        item = {key: encoding[key].squeeze() for key in encoding.keys()}\n",
    "        item[\"labels\"] = torch.tensor(label, dtype=torch.float)\n",
    "        return item\n",
    "\n",
    "# Function to compute metrics during evaluation\n",
    "def compute_metrics(eval_pred):\n",
    "    logits, labels = eval_pred\n",
    "    # Apply sigmoid to get probabilities and threshold at 0.5\n",
    "    preds = torch.sigmoid(torch.tensor(logits))\n",
    "    preds = (preds >= 0.5).int().numpy()\n",
    "    labels = labels.astype(int)\n",
    "    f1 = f1_score(labels, preds, average=\"micro\")\n",
    "    accuracy = accuracy_score(labels, preds)\n",
    "    return {\"f1\": f1, \"accuracy\": accuracy}\n",
    "\n",
    "# Set up 5-fold cross validation\n",
    "kf = KFold(n_splits=5, shuffle=True, random_state=42)\n",
    "fold = 0\n",
    "all_metrics = []\n",
    "\n",
    "for train_index, val_index in kf.split(texts):\n",
    "    fold += 1\n",
    "    print(f\"\\n======== Fold {fold} ========\")\n",
    "    # Split the texts and labels\n",
    "    train_texts = [texts[i] for i in train_index]\n",
    "    train_labels = labels[train_index]\n",
    "    val_texts = [texts[i] for i in val_index]\n",
    "    val_labels = labels[val_index]\n",
    "    \n",
    "    # Create Dataset objects for the current fold\n",
    "    train_dataset = ToxicCommentsDataset(train_texts, train_labels, tokenizer)\n",
    "    val_dataset = ToxicCommentsDataset(val_texts, val_labels, tokenizer)\n",
    "    \n",
    "    # Load a fresh model for each fold; specify num_labels=6 for our 6 toxicity labels.\n",
    "    model = RobertaForSequenceClassification.from_pretrained(\"roberta-base\", num_labels=6)\n",
    "    # Set the problem type to multi-label classification so that the loss is computed appropriately.\n",
    "    model.config.problem_type = \"multi_label_classification\"\n",
    "    \n",
    "    # Define training arguments\n",
    "    training_args = TrainingArguments(\n",
    "        output_dir=f\"./results_fold_{fold}\",\n",
    "        num_train_epochs=2,  # You can adjust the number of epochs\n",
    "        per_device_train_batch_size=8,\n",
    "        per_device_eval_batch_size=8,\n",
    "        eval_strategy=\"epoch\",\n",
    "        save_strategy=\"epoch\",\n",
    "        logging_dir=f\"./logs_fold_{fold}\",\n",
    "        logging_steps=100,\n",
    "        load_best_model_at_end=True,\n",
    "        metric_for_best_model=\"eval_loss\",\n",
    "        seed=42\n",
    "    )\n",
    "    \n",
    "    # Initialize the Trainer\n",
    "    trainer = Trainer(\n",
    "        model=model,\n",
    "        args=training_args,\n",
    "        train_dataset=train_dataset,\n",
    "        eval_dataset=val_dataset,\n",
    "        compute_metrics=compute_metrics,\n",
    "    )\n",
    "    \n",
    "    # Train and evaluate\n",
    "    trainer.train()\n",
    "    eval_result = trainer.evaluate()\n",
    "    print(f\"Fold {fold} evaluation results:\", eval_result)\n",
    "    all_metrics.append(eval_result)\n",
    "\n",
    "print(\"\\nCross Validation Metrics:\")\n",
    "for i, metrics in enumerate(all_metrics, start=1):\n",
    "    print(f\"Fold {i}: {metrics}\")"
   ],
   "id": "f1d6809b6a0e740c",
   "outputs": [
    {
     "name": "stdout",
     "output_type": "stream",
     "text": [
      "\n",
      "======== Fold 1 ========\n"
     ]
    },
    {
     "name": "stderr",
     "output_type": "stream",
     "text": [
      "Some weights of RobertaForSequenceClassification were not initialized from the model checkpoint at roberta-base and are newly initialized: ['classifier.dense.bias', 'classifier.dense.weight', 'classifier.out_proj.bias', 'classifier.out_proj.weight']\n",
      "You should probably TRAIN this model on a down-stream task to be able to use it for predictions and inference.\n",
      "/Users/butter/Library/Python/3.12/lib/python/site-packages/transformers/training_args.py:1568: FutureWarning: `evaluation_strategy` is deprecated and will be removed in version 4.46 of 🤗 Transformers. Use `eval_strategy` instead\n",
      "  warnings.warn(\n"
     ]
    },
    {
     "data": {
      "text/plain": [
       "<IPython.core.display.HTML object>"
      ],
      "text/html": [
       "\n",
       "    <div>\n",
       "      \n",
       "      <progress value='119' max='31914' style='width:300px; height:20px; vertical-align: middle;'></progress>\n",
       "      [  119/31914 00:39 < 2:59:31, 2.95 it/s, Epoch 0.01/2]\n",
       "    </div>\n",
       "    <table border=\"1\" class=\"dataframe\">\n",
       "  <thead>\n",
       " <tr style=\"text-align: left;\">\n",
       "      <th>Epoch</th>\n",
       "      <th>Training Loss</th>\n",
       "      <th>Validation Loss</th>\n",
       "    </tr>\n",
       "  </thead>\n",
       "  <tbody>\n",
       "  </tbody>\n",
       "</table><p>"
      ]
     },
     "metadata": {},
     "output_type": "display_data"
    }
   ],
   "execution_count": null
  },
  {
   "metadata": {},
   "cell_type": "code",
   "outputs": [],
   "execution_count": null,
   "source": "",
   "id": "764219318913d072"
  }
 ],
 "metadata": {
  "kernelspec": {
   "display_name": "Python 3",
   "language": "python",
   "name": "python3"
  },
  "language_info": {
   "codemirror_mode": {
    "name": "ipython",
    "version": 2
   },
   "file_extension": ".py",
   "mimetype": "text/x-python",
   "name": "python",
   "nbconvert_exporter": "python",
   "pygments_lexer": "ipython2",
   "version": "2.7.6"
  }
 },
 "nbformat": 4,
 "nbformat_minor": 5
}
